{
 "cells": [
  {
   "cell_type": "markdown",
   "id": "fcdd8a11",
   "metadata": {},
   "source": [
    "# T5 Medical Text Simplifier Fine-tuning\n",
    "\n",
    "This notebook fine-tunes a T5 model for medical text simplification.\n",
    "Upload your training data CSV with columns: 'medical' and 'simple'"
   ]
  },
  {
   "cell_type": "code",
   "execution_count": null,
   "id": "d4ff9627",
   "metadata": {},
   "outputs": [],
   "source": [
    "# Install required packages\n",
    "!pip install -q transformers datasets torch accelerate wandb evaluate rouge-score sentencepiece\n",
    "!pip install -q huggingface_hub"
   ]
  },
  {
   "cell_type": "code",
   "execution_count": null,
   "id": "110c3eec",
   "metadata": {},
   "outputs": [],
   "source": [
    "# Import libraries\n",
    "import pandas as pd\n",
    "import torch\n",
    "from transformers import (\n",
    "    T5Tokenizer,\n",
    "    T5ForConditionalGeneration,\n",
    "    TrainingArguments,\n",
    "    Trainer,\n",
    "    DataCollatorForSeq2Seq\n",
    ")\n",
    "from datasets import Dataset, DatasetDict\n",
    "from sklearn.model_selection import train_test_split\n",
    "import numpy as np\n",
    "import evaluate\n",
    "import wandb\n",
    "import os\n",
    "from huggingface_hub import notebook_login, HfFolder\n",
    "import warnings\n",
    "warnings.filterwarnings('ignore')"
   ]
  },
  {
   "cell_type": "markdown",
   "id": "9a1189a4",
   "metadata": {},
   "source": [
    "## Configuration"
   ]
  },
  {
   "cell_type": "code",
   "execution_count": null,
   "id": "7108897d",
   "metadata": {},
   "outputs": [],
   "source": [
    "# Configuration\n",
    "MODEL_NAME = \"t5-base\"  # Base T5 model\n",
    "OUTPUT_DIR = \"./t5-medical-simplifier\"  # Local output directory\n",
    "HF_MODEL_NAME = \"your_username/t5-medical-simplifier\"  # Replace with your HF username\n",
    "MAX_INPUT_LENGTH = 512\n",
    "MAX_TARGET_LENGTH = 128\n",
    "TRAIN_BATCH_SIZE = 8\n",
    "EVAL_BATCH_SIZE = 8\n",
    "LEARNING_RATE = 3e-4\n",
    "NUM_EPOCHS = 3\n",
    "WARMUP_STEPS = 500\n",
    "EVAL_STEPS = 500\n",
    "SAVE_STEPS = 500"
   ]
  },
  {
   "cell_type": "markdown",
   "id": "9e57d025",
   "metadata": {},
   "source": [
    "## Authentication"
   ]
  },
  {
   "cell_type": "code",
   "execution_count": null,
   "id": "e61ff611",
   "metadata": {},
   "outputs": [],
   "source": [
    "# Login to Hugging Face (optional - for saving to hub)\n",
    "notebook_login()"
   ]
  },
  {
   "cell_type": "code",
   "execution_count": null,
   "id": "ab25b368",
   "metadata": {},
   "outputs": [],
   "source": [
    "# Login to Weights & Biases (optional - for experiment tracking)\n",
    "from getpass import getpass\n",
    "try:\n",
    "    wandb_key = getpass(\"Enter your WandB API key (or press Enter to skip): \")\n",
    "    if wandb_key:\n",
    "        wandb.login(key=wandb_key)\n",
    "        USE_WANDB = True\n",
    "    else:\n",
    "        USE_WANDB = False\n",
    "        print(\"Skipping WandB logging\")\n",
    "except:\n",
    "    USE_WANDB = False\n",
    "    print(\"WandB setup skipped\")"
   ]
  },
  {
   "cell_type": "markdown",
   "id": "961f4884",
   "metadata": {},
   "source": [
    "## Load and Prepare Dataset"
   ]
  },
  {
   "cell_type": "code",
   "execution_count": null,
   "id": "2e64a17c",
   "metadata": {},
   "outputs": [],
   "source": [
    "# Mount Google Drive to access your dataset\n",
    "from google.colab import drive\n",
    "drive.mount('/content/drive')"
   ]
  },
  {
   "cell_type": "code",
   "execution_count": null,
   "id": "ac142b2a",
   "metadata": {},
   "outputs": [],
   "source": [
    "# Load your training data\n",
    "# Option 1: Load from CSV file\n",
    "DATA_PATH = \"/content/drive/MyDrive/medical_simplification_data.csv\"  # Update this path\n",
    "\n",
    "# Load the dataset\n",
    "try:\n",
    "    df = pd.read_csv(DATA_PATH)\n",
    "    print(f\"Loaded dataset with {len(df)} examples\")\n",
    "    print(f\"Columns: {df.columns.tolist()}\")\n",
    "    print(\"\\nFirst 3 examples:\")\n",
    "    print(df.head(3))\n",
    "except FileNotFoundError:\n",
    "    print(f\"File not found: {DATA_PATH}\")\n",
    "    print(\"Please upload your CSV file with 'medical' and 'simple' columns\")\n",
    "\n",
    "    # Create a comprehensive sample dataset for testing with complex medical texts\n",
    "    sample_data = {\n",
    "        'medical': [\n",
    "            'The patient presents with acute exacerbation of chronic obstructive pulmonary disease with dyspnea and productive cough',\n",
    "            'Minoxidil is a potent direct-acting peripheral vasodilator that relaxes vascular smooth muscle',\n",
    "            'The patient exhibits signs of acute myocardial infarction with ST-segment elevation in leads II, III, and aVF',\n",
    "            'Chronic kidney disease stage 4 with estimated glomerular filtration rate of 25 ml/min/1.73m²',\n",
    "            'The patient underwent laparoscopic cholecystectomy for symptomatic cholelithiasis',\n",
    "            'Post-operative complications include nosocomial pneumonia and acute respiratory distress syndrome',\n",
    "            'Hypertensive emergency with blood pressure 220/120 mmHg and signs of end-organ damage',\n",
    "            'The patient has diabetes mellitus type 2 with diabetic nephropathy and proliferative retinopathy',\n",
    "            'Acute cerebrovascular accident in the distribution of the middle cerebral artery with contralateral hemiparesis',\n",
    "            'The electrocardiogram shows atrial fibrillation with rapid ventricular response and occasional premature ventricular contractions',\n",
    "            'Gastroesophageal reflux disease with Barrett\\'s esophagus and moderate dysplasia requiring endoscopic surveillance',\n",
    "            'The patient underwent percutaneous coronary intervention with drug-eluting stent placement in the left anterior descending artery',\n",
    "            'Chronic heart failure with reduced ejection fraction secondary to ischemic cardiomyopathy',\n",
    "            'The computed tomography scan reveals bilateral pulmonary embolism with right heart strain',\n",
    "            'Metformin is a biguanide antidiabetic agent that decreases hepatic glucose production',\n",
    "            'The patient developed sepsis secondary to urinary tract infection with multiorgan dysfunction',\n",
    "            'Idiopathic pulmonary fibrosis with usual interstitial pneumonia pattern on high-resolution computed tomography',\n",
    "            'The patient exhibits symptoms of major depressive disorder with anhedonia and psychomotor retardation',\n",
    "            'Acute pancreatitis with elevated serum lipase and characteristic findings on contrast-enhanced computed tomography',\n",
    "            'The patient has osteoarthritis with joint space narrowing and osteophyte formation on radiographic imaging',\n",
    "            'Subcutaneous emphysema and pneumomediastinum following esophageal perforation',\n",
    "            'The patient underwent total hip arthroplasty for avascular necrosis of the femoral head',\n",
    "            'Acute appendicitis with perforation and localized peritonitis requiring emergent appendectomy',\n",
    "            'The medication causes dose-dependent hepatotoxicity with elevated transaminases and hyperbilirubinemia'\n",
    "        ],\n",
    "        'simple': [\n",
    "            'The patient has a lung disease flare-up that makes it hard to breathe and causes coughing with mucus',\n",
    "            'Minoxidil is a medication that widens blood vessels and is used to treat hair loss and high blood pressure',\n",
    "            'The patient is having a heart attack with specific changes showing on the heart monitor',\n",
    "            'The patient has advanced kidney disease where the kidneys only work at 25% of normal function',\n",
    "            'The patient had surgery to remove their gallbladder using small cuts and a camera',\n",
    "            'After surgery, the patient got a lung infection and had trouble breathing',\n",
    "            'The patient has dangerously high blood pressure that is damaging other organs',\n",
    "            'The patient has diabetes that has damaged their kidneys and eyes',\n",
    "            'The patient had a stroke that affects movement on one side of their body',\n",
    "            'The heart monitor shows an irregular heartbeat that is too fast with extra heartbeats',\n",
    "            'The patient has severe acid reflux that has caused changes in the food pipe that need monitoring',\n",
    "            'The patient had a procedure to open a blocked heart artery and place a small tube to keep it open',\n",
    "            'The patient has a weak heart muscle that doesn\\'t pump blood well due to previous heart damage',\n",
    "            'The CT scan shows blood clots in both lungs that are straining the heart',\n",
    "            'Metformin is a diabetes medication that helps reduce the amount of sugar the liver makes',\n",
    "            'The patient has a serious infection from a urinary tract infection that is affecting multiple organs',\n",
    "            'The patient has a lung disease where scar tissue makes it hard to breathe',\n",
    "            'The patient has depression with loss of interest in activities and slowed movements',\n",
    "            'The patient has inflammation of the pancreas with high enzyme levels and specific CT scan findings',\n",
    "            'The patient has joint wear and tear with bone changes visible on X-rays',\n",
    "            'Air has leaked under the skin and around the heart due to a tear in the food pipe',\n",
    "            'The patient had hip replacement surgery because the hip bone died from lack of blood supply',\n",
    "            'The patient had a burst appendix with infection that required emergency surgery to remove it',\n",
    "            'This medication can damage the liver depending on the dose, causing high liver enzymes and yellowing'\n",
    "        ]\n",
    "    }\n",
    "    df = pd.DataFrame(sample_data)\n",
    "    print(f\"Using comprehensive sample dataset with {len(df)} complex medical examples for demonstration\")"
   ]
  },
  {
   "cell_type": "code",
   "execution_count": null,
   "id": "e0ba422f",
   "metadata": {},
   "outputs": [],
   "source": [
    "# Clean and prepare data\n",
    "df = df.dropna(subset=['medical', 'simple'])\n",
    "df = df[df['medical'].str.strip() != '']\n",
    "df = df[df['simple'].str.strip() != '']\n",
    "\n",
    "# Add prefix to input (T5 expects task prefix)\n",
    "df['input_text'] = \"simplify: \" + df['medical'].astype(str)\n",
    "df['target_text'] = df['simple'].astype(str)\n",
    "\n",
    "print(f\"Cleaned dataset size: {len(df)}\")\n",
    "print(\"\\nSample input-output pair:\")\n",
    "print(f\"Input: {df['input_text'].iloc[0]}\")\n",
    "print(f\"Target: {df['target_text'].iloc[0]}\")"
   ]
  },
  {
   "cell_type": "code",
   "execution_count": null,
   "id": "ebbbb9f5",
   "metadata": {},
   "outputs": [],
   "source": [
    "# Split data\n",
    "train_df, val_df = train_test_split(df, test_size=0.1, random_state=42)\n",
    "\n",
    "print(f\"Training examples: {len(train_df)}\")\n",
    "print(f\"Validation examples: {len(val_df)}\")\n",
    "\n",
    "# Convert to Hugging Face datasets\n",
    "train_dataset = Dataset.from_pandas(train_df[['input_text', 'target_text']])\n",
    "val_dataset = Dataset.from_pandas(val_df[['input_text', 'target_text']])\n",
    "\n",
    "dataset = DatasetDict({\n",
    "    'train': train_dataset,\n",
    "    'validation': val_dataset\n",
    "})\n",
    "\n",
    "print(\"\\nDataset created successfully!\")"
   ]
  },
  {
   "cell_type": "markdown",
   "id": "17380f11",
   "metadata": {},
   "source": [
    "## Load Model and Tokenizer"
   ]
  },
  {
   "cell_type": "code",
   "execution_count": null,
   "id": "434e4b49",
   "metadata": {},
   "outputs": [],
   "source": [
    "# Load tokenizer and model\n",
    "tokenizer = T5Tokenizer.from_pretrained(MODEL_NAME)\n",
    "model = T5ForConditionalGeneration.from_pretrained(MODEL_NAME)\n",
    "\n",
    "print(f\"Model loaded: {MODEL_NAME}\")\n",
    "print(f\"Model parameters: {model.num_parameters():,}\")"
   ]
  },
  {
   "cell_type": "code",
   "execution_count": null,
   "id": "76f0afe3",
   "metadata": {},
   "outputs": [],
   "source": [
    "# Tokenization function\n",
    "def preprocess_function(examples):\n",
    "    inputs = examples['input_text']\n",
    "    targets = examples['target_text']\n",
    "\n",
    "    # Tokenize inputs\n",
    "    model_inputs = tokenizer(\n",
    "        inputs,\n",
    "        max_length=MAX_INPUT_LENGTH,\n",
    "        truncation=True,\n",
    "        padding=True\n",
    "    )\n",
    "\n",
    "    # Tokenize targets\n",
    "    labels = tokenizer(\n",
    "        targets,\n",
    "        max_length=MAX_TARGET_LENGTH,\n",
    "        truncation=True,\n",
    "        padding=True\n",
    "    )\n",
    "\n",
    "    model_inputs[\"labels\"] = labels[\"input_ids\"]\n",
    "    return model_inputs\n",
    "\n",
    "# Apply tokenization\n",
    "tokenized_datasets = dataset.map(preprocess_function, batched=True)\n",
    "print(\"Tokenization completed!\")"
   ]
  },
  {
   "cell_type": "markdown",
   "id": "30ce8cea",
   "metadata": {},
   "source": [
    "## Setup Training"
   ]
  },
  {
   "cell_type": "code",
   "execution_count": null,
   "id": "20506838",
   "metadata": {},
   "outputs": [],
   "source": [
    "# Data collator\n",
    "data_collator = DataCollatorForSeq2Seq(tokenizer=tokenizer, model=model)\n",
    "\n",
    "# Evaluation metrics\n",
    "rouge = evaluate.load(\"rouge\")\n",
    "\n",
    "def compute_metrics(eval_pred):\n",
    "    predictions, labels = eval_pred\n",
    "\n",
    "    # Decode predictions and labels\n",
    "    decoded_preds = tokenizer.batch_decode(predictions, skip_special_tokens=True)\n",
    "\n",
    "    # Replace -100 in labels with pad token id\n",
    "    labels = np.where(labels != -100, labels, tokenizer.pad_token_id)\n",
    "    decoded_labels = tokenizer.batch_decode(labels, skip_special_tokens=True)\n",
    "\n",
    "    # Compute ROUGE scores\n",
    "    result = rouge.compute(\n",
    "        predictions=decoded_preds,\n",
    "        references=decoded_labels,\n",
    "        use_stemmer=True\n",
    "    )\n",
    "\n",
    "    return {\n",
    "        \"rouge1\": result[\"rouge1\"],\n",
    "        \"rouge2\": result[\"rouge2\"],\n",
    "        \"rougeL\": result[\"rougeL\"],\n",
    "    }"
   ]
  },
  {
   "cell_type": "code",
   "execution_count": null,
   "id": "28fa9567",
   "metadata": {},
   "outputs": [],
   "source": [
    "# Training arguments\n",
    "training_args = TrainingArguments(\n",
    "    output_dir=OUTPUT_DIR,\n",
    "    num_train_epochs=NUM_EPOCHS,\n",
    "    per_device_train_batch_size=TRAIN_BATCH_SIZE,\n",
    "    per_device_eval_batch_size=EVAL_BATCH_SIZE,\n",
    "    warmup_steps=WARMUP_STEPS,\n",
    "    weight_decay=0.01,\n",
    "    logging_dir='./logs',\n",
    "    logging_steps=100,\n",
    "    evaluation_strategy=\"steps\",\n",
    "    eval_steps=EVAL_STEPS,\n",
    "    save_steps=SAVE_STEPS,\n",
    "    save_total_limit=3,\n",
    "    load_best_model_at_end=True,\n",
    "    metric_for_best_model=\"eval_rouge1\",\n",
    "    greater_is_better=True,\n",
    "    learning_rate=LEARNING_RATE,\n",
    "    predict_with_generate=True,\n",
    "    generation_max_length=MAX_TARGET_LENGTH,\n",
    "    fp16=torch.cuda.is_available(),\n",
    "    push_to_hub=False,  # Set to True if you want to push to HF Hub\n",
    "    report_to=\"wandb\" if USE_WANDB else None,\n",
    "    run_name=\"t5-medical-simplifier\",\n",
    ")\n",
    "\n",
    "print(\"Training arguments configured!\")"
   ]
  },
  {
   "cell_type": "code",
   "execution_count": null,
   "id": "dc6461e2",
   "metadata": {},
   "outputs": [],
   "source": [
    "# Initialize trainer\n",
    "trainer = Trainer(\n",
    "    model=model,\n",
    "    args=training_args,\n",
    "    train_dataset=tokenized_datasets[\"train\"],\n",
    "    eval_dataset=tokenized_datasets[\"validation\"],\n",
    "    tokenizer=tokenizer,\n",
    "    data_collator=data_collator,\n",
    "    compute_metrics=compute_metrics,\n",
    ")\n",
    "\n",
    "print(\"Trainer initialized!\")"
   ]
  },
  {
   "cell_type": "markdown",
   "id": "81049158",
   "metadata": {},
   "source": [
    "## Training"
   ]
  },
  {
   "cell_type": "code",
   "execution_count": null,
   "id": "d32b43b6",
   "metadata": {},
   "outputs": [],
   "source": [
    "# Start training\n",
    "print(\"Starting training...\")\n",
    "trainer.train()"
   ]
  },
  {
   "cell_type": "code",
   "execution_count": null,
   "id": "5688c574",
   "metadata": {},
   "outputs": [],
   "source": [
    "# Evaluate the model\n",
    "print(\"\\nEvaluating model...\")\n",
    "eval_results = trainer.evaluate()\n",
    "print(f\"Evaluation results: {eval_results}\")"
   ]
  },
  {
   "cell_type": "markdown",
   "id": "c3b70c78",
   "metadata": {},
   "source": [
    "## Test the Model"
   ]
  },
  {
   "cell_type": "code",
   "execution_count": null,
   "id": "179039dc",
   "metadata": {},
   "outputs": [],
   "source": [
    "# Test function\n",
    "def simplify_medical_text(text, max_length=128):\n",
    "    input_text = f\"simplify: {text}\"\n",
    "    inputs = tokenizer(input_text, return_tensors=\"pt\", max_length=512, truncation=True)\n",
    "\n",
    "    with torch.no_grad():\n",
    "        outputs = model.generate(\n",
    "            inputs.input_ids,\n",
    "            max_length=max_length,\n",
    "            num_beams=4,\n",
    "            early_stopping=True,\n",
    "            temperature=0.7\n",
    "        )\n",
    "\n",
    "    simplified = tokenizer.decode(outputs[0], skip_special_tokens=True)\n",
    "    return simplified\n",
    "\n",
    "# Test examples\n",
    "test_examples = [\n",
    "    \"minoxidil\",\n",
    "    \"hypertension\",\n",
    "    \"myocardial infarction\",\n",
    "    \"The patient presents with acute exacerbation of chronic obstructive pulmonary disease\",\n",
    "]\n",
    "\n",
    "print(\"Testing the trained model:\\n\")\n",
    "for example in test_examples:\n",
    "    simplified = simplify_medical_text(example)\n",
    "    print(f\"Input: {example}\")\n",
    "    print(f\"Simplified: {simplified}\\n\")"
   ]
  },
  {
   "cell_type": "markdown",
   "id": "c90a3cc5",
   "metadata": {},
   "source": [
    "## Save Model"
   ]
  },
  {
   "cell_type": "code",
   "execution_count": null,
   "id": "c6ffd39e",
   "metadata": {},
   "outputs": [],
   "source": [
    "# Save the model and tokenizer locally\n",
    "model_save_path = \"./final_model\"\n",
    "tokenizer_save_path = \"./final_tokenizer\"\n",
    "\n",
    "# Save model\n",
    "model.save_pretrained(model_save_path, safe_serialization=True)\n",
    "print(f\"Model saved to {model_save_path}\")\n",
    "\n",
    "# Save tokenizer\n",
    "tokenizer.save_pretrained(tokenizer_save_path)\n",
    "print(f\"Tokenizer saved to {tokenizer_save_path}\")\n",
    "\n",
    "# Create directory structure for your backend\n",
    "backend_model_path = \"./anishbasnet/t5-base-ft-medical-simplifier\"\n",
    "os.makedirs(f\"{backend_model_path}/model\", exist_ok=True)\n",
    "os.makedirs(f\"{backend_model_path}/tokenizer\", exist_ok=True)\n",
    "\n",
    "# Save in backend format\n",
    "model.save_pretrained(f\"{backend_model_path}/model\", safe_serialization=True)\n",
    "tokenizer.save_pretrained(f\"{backend_model_path}/tokenizer\")\n",
    "\n",
    "print(f\"\\nModel saved in backend format at: {backend_model_path}\")\n",
    "print(\"You can now download this folder and place it in your backend/models/ directory\")"
   ]
  },
  {
   "cell_type": "code",
   "execution_count": null,
   "id": "ce5732e2",
   "metadata": {},
   "outputs": [],
   "source": [
    "# Compress for easy download\n",
    "import shutil\n",
    "\n",
    "# Create zip file\n",
    "shutil.make_archive(\n",
    "    \"t5-base-ft-medical-simplifier\",\n",
    "    'zip',\n",
    "    \"./anishbasnet\"\n",
    ")\n",
    "\n",
    "print(\"Model compressed as 't5-base-ft-medical-simplifier.zip'\")\n",
    "print(\"Download this file and extract it to your backend/models/ directory\")"
   ]
  },
  {
   "cell_type": "markdown",
   "id": "a27ceb72",
   "metadata": {},
   "source": [
    "## Optional: Push to Hugging Face Hub"
   ]
  },
  {
   "cell_type": "code",
   "execution_count": null,
   "id": "166aefe5",
   "metadata": {},
   "outputs": [],
   "source": [
    "# Uncomment and run this cell if you want to push to Hugging Face Hub\n",
    "# Make sure you're logged in and have set HF_MODEL_NAME\n",
    "\n",
    "# trainer.push_to_hub(HF_MODEL_NAME)\n",
    "# tokenizer.push_to_hub(HF_MODEL_NAME)\n",
    "# print(f\"Model pushed to Hugging Face Hub: {HF_MODEL_NAME}\")"
   ]
  },
  {
   "cell_type": "markdown",
   "id": "5af902e4",
   "metadata": {},
   "source": [
    "## Summary\n",
    "\n",
    "### Files to Transfer:\n",
    "1. **Download the compressed file**: `t5-base-ft-medical-simplifier.zip`\n",
    "2. **Extract to your backend**: `backend/models/anishbasnet/t5-base-ft-medical-simplifier/`\n",
    "3. **Structure should be**:\n",
    "   ```\n",
    "   backend/models/anishbasnet/t5-base-ft-medical-simplifier/\n",
    "   ├── model/\n",
    "   │   ├── config.json\n",
    "   │   ├── generation_config.json\n",
    "   │   └── model.safetensors\n",
    "   └── tokenizer/\n",
    "       ├── special_tokens_map.json\n",
    "       ├── spiece.model\n",
    "       ├── tokenizer_config.json\n",
    "       └── tokenizer.json\n",
    "   ```\n",
    "\n",
    "### After Transfer:\n",
    "1. Restart your backend server\n",
    "2. Test with: `python test_minoxidil.py`\n",
    "3. The model should now give correct explanations!\n",
    "\n",
    "### Training Tips:\n",
    "- Use a larger dataset for better results (combine all 5 datasets from Dataset_creation.ipynb)\n",
    "- Increase epochs if you have more data\n",
    "- Monitor the ROUGE scores during training\n",
    "- Add more diverse medical examples including drug names like minoxidil"
   ]
  }
 ],
 "metadata": {
  "language_info": {
   "name": "python"
  }
 },
 "nbformat": 4,
 "nbformat_minor": 5
}
